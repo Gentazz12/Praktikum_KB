{
 "cells": [
  {
   "cell_type": "markdown",
   "id": "31986f5c-3f99-4a75-98c1-3cfc1f79beab",
   "metadata": {},
   "source": [
    "# POSTTEST 6 KB\n",
    "Nama : Rafly Genta Pratama\n",
    "\n",
    "NIM : 2209106022\n",
    "\n",
    "Kelas : Informatika A22 (A1)"
   ]
  },
  {
   "cell_type": "markdown",
   "id": "1417e060-2a8f-4e5c-b720-5dc6c1a6b8bf",
   "metadata": {},
   "source": [
    "## Mengimport Library\r\n"
   ]
  },
  {
   "cell_type": "code",
   "execution_count": 1,
   "id": "c12b7e19-9a83-429c-9651-16ebe602ee58",
   "metadata": {},
   "outputs": [],
   "source": [
    "import pandas as pd\n",
    "import numpy as np\n",
    "import tensorflow as tf\n",
    "from tensorflow import keras\n",
    "from tensorflow.keras import layers\n",
    "from sklearn.model_selection import train_test_split\n",
    "from sklearn.preprocessing import StandardScaler, LabelEncoder\n",
    "from sklearn.metrics import r2_score"
   ]
  },
  {
   "cell_type": "markdown",
   "id": "6ffd5f80-3731-412c-901d-41e681667d4c",
   "metadata": {},
   "source": [
    "## Membaca Dataset\n"
   ]
  },
  {
   "cell_type": "code",
   "execution_count": 2,
   "id": "d0cc73a5-9b64-4df2-b5c1-81f3368db780",
   "metadata": {},
   "outputs": [
    {
     "data": {
      "text/html": [
       "<div>\n",
       "<style scoped>\n",
       "    .dataframe tbody tr th:only-of-type {\n",
       "        vertical-align: middle;\n",
       "    }\n",
       "\n",
       "    .dataframe tbody tr th {\n",
       "        vertical-align: top;\n",
       "    }\n",
       "\n",
       "    .dataframe thead th {\n",
       "        text-align: right;\n",
       "    }\n",
       "</style>\n",
       "<table border=\"1\" class=\"dataframe\">\n",
       "  <thead>\n",
       "    <tr style=\"text-align: right;\">\n",
       "      <th></th>\n",
       "      <th>Name</th>\n",
       "      <th>Age</th>\n",
       "      <th>Nationality</th>\n",
       "      <th>Overall</th>\n",
       "      <th>Potential</th>\n",
       "      <th>Club</th>\n",
       "      <th>Value</th>\n",
       "      <th>Wage</th>\n",
       "      <th>Special</th>\n",
       "      <th>International Reputation</th>\n",
       "      <th>...</th>\n",
       "      <th>GKKicking</th>\n",
       "      <th>GKPositioning</th>\n",
       "      <th>GKReflexes</th>\n",
       "      <th>Release Clause</th>\n",
       "      <th>DOB</th>\n",
       "      <th>Height</th>\n",
       "      <th>Weight</th>\n",
       "      <th>Right Foot</th>\n",
       "      <th>Offensive Work Rate</th>\n",
       "      <th>Defensive Work Rate</th>\n",
       "    </tr>\n",
       "  </thead>\n",
       "  <tbody>\n",
       "    <tr>\n",
       "      <th>0</th>\n",
       "      <td>L. Messi</td>\n",
       "      <td>31</td>\n",
       "      <td>Argentina</td>\n",
       "      <td>94</td>\n",
       "      <td>94</td>\n",
       "      <td>FC Barcelona</td>\n",
       "      <td>110500000.0</td>\n",
       "      <td>565000.0</td>\n",
       "      <td>2202</td>\n",
       "      <td>5.0</td>\n",
       "      <td>...</td>\n",
       "      <td>15.0</td>\n",
       "      <td>14.0</td>\n",
       "      <td>8.0</td>\n",
       "      <td>226500000.0</td>\n",
       "      <td>1987-06-24</td>\n",
       "      <td>170</td>\n",
       "      <td>72</td>\n",
       "      <td>False</td>\n",
       "      <td>Medium</td>\n",
       "      <td>Medium</td>\n",
       "    </tr>\n",
       "    <tr>\n",
       "      <th>1</th>\n",
       "      <td>Cristiano Ronaldo</td>\n",
       "      <td>33</td>\n",
       "      <td>Portugal</td>\n",
       "      <td>94</td>\n",
       "      <td>94</td>\n",
       "      <td>Juventus</td>\n",
       "      <td>77000000.0</td>\n",
       "      <td>405000.0</td>\n",
       "      <td>2228</td>\n",
       "      <td>5.0</td>\n",
       "      <td>...</td>\n",
       "      <td>15.0</td>\n",
       "      <td>14.0</td>\n",
       "      <td>11.0</td>\n",
       "      <td>127100000.0</td>\n",
       "      <td>1985-02-05</td>\n",
       "      <td>187</td>\n",
       "      <td>83</td>\n",
       "      <td>True</td>\n",
       "      <td>High</td>\n",
       "      <td>Low</td>\n",
       "    </tr>\n",
       "    <tr>\n",
       "      <th>2</th>\n",
       "      <td>Neymar Jr</td>\n",
       "      <td>26</td>\n",
       "      <td>Brazil</td>\n",
       "      <td>92</td>\n",
       "      <td>93</td>\n",
       "      <td>Paris Saint-Germain</td>\n",
       "      <td>118500000.0</td>\n",
       "      <td>290000.0</td>\n",
       "      <td>2143</td>\n",
       "      <td>5.0</td>\n",
       "      <td>...</td>\n",
       "      <td>15.0</td>\n",
       "      <td>15.0</td>\n",
       "      <td>11.0</td>\n",
       "      <td>228100000.0</td>\n",
       "      <td>1992-02-05</td>\n",
       "      <td>175</td>\n",
       "      <td>68</td>\n",
       "      <td>True</td>\n",
       "      <td>High</td>\n",
       "      <td>Medium</td>\n",
       "    </tr>\n",
       "    <tr>\n",
       "      <th>3</th>\n",
       "      <td>De Gea</td>\n",
       "      <td>27</td>\n",
       "      <td>Spain</td>\n",
       "      <td>91</td>\n",
       "      <td>93</td>\n",
       "      <td>Manchester United</td>\n",
       "      <td>72000000.0</td>\n",
       "      <td>260000.0</td>\n",
       "      <td>1471</td>\n",
       "      <td>4.0</td>\n",
       "      <td>...</td>\n",
       "      <td>87.0</td>\n",
       "      <td>88.0</td>\n",
       "      <td>94.0</td>\n",
       "      <td>138600000.0</td>\n",
       "      <td>1990-11-07</td>\n",
       "      <td>193</td>\n",
       "      <td>76</td>\n",
       "      <td>True</td>\n",
       "      <td>Medium</td>\n",
       "      <td>Medium</td>\n",
       "    </tr>\n",
       "    <tr>\n",
       "      <th>4</th>\n",
       "      <td>K. De Bruyne</td>\n",
       "      <td>27</td>\n",
       "      <td>Belgium</td>\n",
       "      <td>91</td>\n",
       "      <td>92</td>\n",
       "      <td>Manchester City</td>\n",
       "      <td>102000000.0</td>\n",
       "      <td>355000.0</td>\n",
       "      <td>2281</td>\n",
       "      <td>4.0</td>\n",
       "      <td>...</td>\n",
       "      <td>5.0</td>\n",
       "      <td>10.0</td>\n",
       "      <td>13.0</td>\n",
       "      <td>196400000.0</td>\n",
       "      <td>1991-06-28</td>\n",
       "      <td>181</td>\n",
       "      <td>70</td>\n",
       "      <td>True</td>\n",
       "      <td>High</td>\n",
       "      <td>High</td>\n",
       "    </tr>\n",
       "    <tr>\n",
       "      <th>...</th>\n",
       "      <td>...</td>\n",
       "      <td>...</td>\n",
       "      <td>...</td>\n",
       "      <td>...</td>\n",
       "      <td>...</td>\n",
       "      <td>...</td>\n",
       "      <td>...</td>\n",
       "      <td>...</td>\n",
       "      <td>...</td>\n",
       "      <td>...</td>\n",
       "      <td>...</td>\n",
       "      <td>...</td>\n",
       "      <td>...</td>\n",
       "      <td>...</td>\n",
       "      <td>...</td>\n",
       "      <td>...</td>\n",
       "      <td>...</td>\n",
       "      <td>...</td>\n",
       "      <td>...</td>\n",
       "      <td>...</td>\n",
       "      <td>...</td>\n",
       "    </tr>\n",
       "    <tr>\n",
       "      <th>17214</th>\n",
       "      <td>S. Griffin</td>\n",
       "      <td>18</td>\n",
       "      <td>Republic of Ireland</td>\n",
       "      <td>47</td>\n",
       "      <td>67</td>\n",
       "      <td>Waterford FC</td>\n",
       "      <td>60000.0</td>\n",
       "      <td>1000.0</td>\n",
       "      <td>1325</td>\n",
       "      <td>1.0</td>\n",
       "      <td>...</td>\n",
       "      <td>12.0</td>\n",
       "      <td>7.0</td>\n",
       "      <td>13.0</td>\n",
       "      <td>153000.0</td>\n",
       "      <td>1999-12-31</td>\n",
       "      <td>173</td>\n",
       "      <td>64</td>\n",
       "      <td>True</td>\n",
       "      <td>Medium</td>\n",
       "      <td>Medium</td>\n",
       "    </tr>\n",
       "    <tr>\n",
       "      <th>17215</th>\n",
       "      <td>K. Fujikawa</td>\n",
       "      <td>19</td>\n",
       "      <td>Japan</td>\n",
       "      <td>47</td>\n",
       "      <td>61</td>\n",
       "      <td>Júbilo Iwata</td>\n",
       "      <td>60000.0</td>\n",
       "      <td>1000.0</td>\n",
       "      <td>1333</td>\n",
       "      <td>1.0</td>\n",
       "      <td>...</td>\n",
       "      <td>6.0</td>\n",
       "      <td>11.0</td>\n",
       "      <td>8.0</td>\n",
       "      <td>113000.0</td>\n",
       "      <td>1998-07-24</td>\n",
       "      <td>171</td>\n",
       "      <td>66</td>\n",
       "      <td>True</td>\n",
       "      <td>Medium</td>\n",
       "      <td>Medium</td>\n",
       "    </tr>\n",
       "    <tr>\n",
       "      <th>17216</th>\n",
       "      <td>J. Young</td>\n",
       "      <td>18</td>\n",
       "      <td>Scotland</td>\n",
       "      <td>47</td>\n",
       "      <td>62</td>\n",
       "      <td>Swindon Town</td>\n",
       "      <td>60000.0</td>\n",
       "      <td>1000.0</td>\n",
       "      <td>1203</td>\n",
       "      <td>1.0</td>\n",
       "      <td>...</td>\n",
       "      <td>12.0</td>\n",
       "      <td>12.0</td>\n",
       "      <td>11.0</td>\n",
       "      <td>143000.0</td>\n",
       "      <td>1999-07-31</td>\n",
       "      <td>175</td>\n",
       "      <td>71</td>\n",
       "      <td>False</td>\n",
       "      <td>Medium</td>\n",
       "      <td>Medium</td>\n",
       "    </tr>\n",
       "    <tr>\n",
       "      <th>17217</th>\n",
       "      <td>J. Lundstram</td>\n",
       "      <td>19</td>\n",
       "      <td>England</td>\n",
       "      <td>47</td>\n",
       "      <td>65</td>\n",
       "      <td>Crewe Alexandra</td>\n",
       "      <td>60000.0</td>\n",
       "      <td>1000.0</td>\n",
       "      <td>1307</td>\n",
       "      <td>1.0</td>\n",
       "      <td>...</td>\n",
       "      <td>7.0</td>\n",
       "      <td>8.0</td>\n",
       "      <td>9.0</td>\n",
       "      <td>143000.0</td>\n",
       "      <td>1999-02-19</td>\n",
       "      <td>176</td>\n",
       "      <td>61</td>\n",
       "      <td>True</td>\n",
       "      <td>Medium</td>\n",
       "      <td>Medium</td>\n",
       "    </tr>\n",
       "    <tr>\n",
       "      <th>17218</th>\n",
       "      <td>B. Worman</td>\n",
       "      <td>16</td>\n",
       "      <td>England</td>\n",
       "      <td>47</td>\n",
       "      <td>67</td>\n",
       "      <td>Cambridge United</td>\n",
       "      <td>60000.0</td>\n",
       "      <td>1000.0</td>\n",
       "      <td>1189</td>\n",
       "      <td>1.0</td>\n",
       "      <td>...</td>\n",
       "      <td>10.0</td>\n",
       "      <td>6.0</td>\n",
       "      <td>13.0</td>\n",
       "      <td>165000.0</td>\n",
       "      <td>2001-08-30</td>\n",
       "      <td>172</td>\n",
       "      <td>67</td>\n",
       "      <td>True</td>\n",
       "      <td>Medium</td>\n",
       "      <td>Medium</td>\n",
       "    </tr>\n",
       "  </tbody>\n",
       "</table>\n",
       "<p>17219 rows × 82 columns</p>\n",
       "</div>"
      ],
      "text/plain": [
       "                    Name  Age          Nationality  Overall  Potential  \\\n",
       "0               L. Messi   31            Argentina       94         94   \n",
       "1      Cristiano Ronaldo   33             Portugal       94         94   \n",
       "2              Neymar Jr   26               Brazil       92         93   \n",
       "3                 De Gea   27                Spain       91         93   \n",
       "4           K. De Bruyne   27              Belgium       91         92   \n",
       "...                  ...  ...                  ...      ...        ...   \n",
       "17214         S. Griffin   18  Republic of Ireland       47         67   \n",
       "17215        K. Fujikawa   19                Japan       47         61   \n",
       "17216           J. Young   18             Scotland       47         62   \n",
       "17217       J. Lundstram   19              England       47         65   \n",
       "17218          B. Worman   16              England       47         67   \n",
       "\n",
       "                      Club        Value      Wage  Special  \\\n",
       "0             FC Barcelona  110500000.0  565000.0     2202   \n",
       "1                 Juventus   77000000.0  405000.0     2228   \n",
       "2      Paris Saint-Germain  118500000.0  290000.0     2143   \n",
       "3        Manchester United   72000000.0  260000.0     1471   \n",
       "4          Manchester City  102000000.0  355000.0     2281   \n",
       "...                    ...          ...       ...      ...   \n",
       "17214         Waterford FC      60000.0    1000.0     1325   \n",
       "17215         Júbilo Iwata      60000.0    1000.0     1333   \n",
       "17216         Swindon Town      60000.0    1000.0     1203   \n",
       "17217      Crewe Alexandra      60000.0    1000.0     1307   \n",
       "17218     Cambridge United      60000.0    1000.0     1189   \n",
       "\n",
       "       International Reputation  ...  GKKicking  GKPositioning GKReflexes  \\\n",
       "0                           5.0  ...       15.0           14.0        8.0   \n",
       "1                           5.0  ...       15.0           14.0       11.0   \n",
       "2                           5.0  ...       15.0           15.0       11.0   \n",
       "3                           4.0  ...       87.0           88.0       94.0   \n",
       "4                           4.0  ...        5.0           10.0       13.0   \n",
       "...                         ...  ...        ...            ...        ...   \n",
       "17214                       1.0  ...       12.0            7.0       13.0   \n",
       "17215                       1.0  ...        6.0           11.0        8.0   \n",
       "17216                       1.0  ...       12.0           12.0       11.0   \n",
       "17217                       1.0  ...        7.0            8.0        9.0   \n",
       "17218                       1.0  ...       10.0            6.0       13.0   \n",
       "\n",
       "      Release Clause         DOB  Height  Weight  Right Foot  \\\n",
       "0        226500000.0  1987-06-24     170      72       False   \n",
       "1        127100000.0  1985-02-05     187      83        True   \n",
       "2        228100000.0  1992-02-05     175      68        True   \n",
       "3        138600000.0  1990-11-07     193      76        True   \n",
       "4        196400000.0  1991-06-28     181      70        True   \n",
       "...              ...         ...     ...     ...         ...   \n",
       "17214       153000.0  1999-12-31     173      64        True   \n",
       "17215       113000.0  1998-07-24     171      66        True   \n",
       "17216       143000.0  1999-07-31     175      71       False   \n",
       "17217       143000.0  1999-02-19     176      61        True   \n",
       "17218       165000.0  2001-08-30     172      67        True   \n",
       "\n",
       "       Offensive Work Rate  Defensive Work Rate  \n",
       "0                   Medium               Medium  \n",
       "1                     High                  Low  \n",
       "2                     High               Medium  \n",
       "3                   Medium               Medium  \n",
       "4                     High                 High  \n",
       "...                    ...                  ...  \n",
       "17214               Medium               Medium  \n",
       "17215               Medium               Medium  \n",
       "17216               Medium               Medium  \n",
       "17217               Medium               Medium  \n",
       "17218               Medium               Medium  \n",
       "\n",
       "[17219 rows x 82 columns]"
      ]
     },
     "execution_count": 2,
     "metadata": {},
     "output_type": "execute_result"
    }
   ],
   "source": [
    "df = pd.read_csv('FIFA 19 data.csv')\n",
    "df"
   ]
  },
  {
   "cell_type": "markdown",
   "id": "61f36220-4a8c-4a2a-85af-91d7c5764ad8",
   "metadata": {},
   "source": [
    "## Ngedrop Kolom \n"
   ]
  },
  {
   "cell_type": "code",
   "execution_count": 3,
   "id": "1c8227b7-5267-44d3-b290-2579b7badfd8",
   "metadata": {},
   "outputs": [],
   "source": [
    "# Menghapus kolom yanbg tidak terpakai\n",
    "df = df.drop(['Defensive Work Rate', 'Offensive Work Rate', 'Right Foot', 'Weight', 'Height', 'DOB', 'Release Clause', 'GKReflexes', 'GKPositioning', 'GKKicking', 'GKHandling', 'GKDiving', 'SlidingTackle', 'StandingTackle', 'Marking', 'Composure', 'Penalties', 'Vision', 'Positioning', 'Interceptions', 'Aggression', 'LongShots', 'Strength', 'Stamina', 'Jumping', 'ShotPower', 'Balance', 'Reactions', 'Agility', 'SprintSpeed', 'Acceleration', 'BallControl', 'LongPassing', 'FKAccuracy', 'Curve', 'Dribbling', 'Volleys', 'ShortPassing', 'HeadingAccuracy', 'Finishing', 'Crossing', 'RB', 'RCB', 'CB', 'LCB', 'LB', 'RWB', 'RDM', 'CDM', 'LDM', 'LWB', 'RM', 'RCM', 'CM', 'LCM', 'LM', 'RAM', 'CAM', 'LAM', 'RW', 'RF', 'CF', 'LF', 'LW', 'RS', 'ST', 'LS', 'Jersey Number','Name'], axis=1)"
   ]
  },
  {
   "cell_type": "code",
   "execution_count": 4,
   "id": "b15bf1f8-ec84-4194-ba92-9bc551691083",
   "metadata": {},
   "outputs": [],
   "source": [
    "# Menghapus kolom yang tidak ada nilainya\n",
    "df = df.dropna()"
   ]
  },
  {
   "cell_type": "markdown",
   "id": "0272db0e-b4e7-4d72-a48a-8e216db21503",
   "metadata": {},
   "source": [
    "## Encode kolom Kategorikal"
   ]
  },
  {
   "cell_type": "code",
   "execution_count": 5,
   "id": "4c9a9f5a-2774-4f1a-a117-82eb47a30524",
   "metadata": {},
   "outputs": [],
   "source": [
    "le = LabelEncoder()\n",
    "cat_cols = ['Nationality', 'Club', 'Body Type', 'Position']\n",
    "for col in cat_cols:\n",
    "  df[col] = le.fit_transform(df[col])"
   ]
  },
  {
   "cell_type": "markdown",
   "id": "92068f84-fb14-4d14-a5b0-0cecd91f3e46",
   "metadata": {},
   "source": [
    "## Split Dataset"
   ]
  },
  {
   "cell_type": "code",
   "execution_count": 6,
   "id": "6ea19182-3a8b-46ea-9bed-9d565c2d8042",
   "metadata": {},
   "outputs": [],
   "source": [
    "X = df.drop('Overall', axis=1)\n",
    "y = df['Overall']"
   ]
  },
  {
   "cell_type": "code",
   "execution_count": 7,
   "id": "a822571f-eb66-4973-9de1-31936d5c872b",
   "metadata": {},
   "outputs": [],
   "source": [
    "X_train, X_test, y_train, y_test = train_test_split(X, y, test_size=0.2, random_state=42)"
   ]
  },
  {
   "cell_type": "markdown",
   "id": "e0565a6a-be2a-4795-804d-120eeca8e179",
   "metadata": {},
   "source": [
    "## StandardScaler"
   ]
  },
  {
   "cell_type": "code",
   "execution_count": 8,
   "id": "af4b26a7-200d-434d-a9e6-34bf9ec29301",
   "metadata": {},
   "outputs": [],
   "source": [
    "scaler = StandardScaler()\n",
    "X_train = scaler.fit_transform(X_train)\n",
    "X_test = scaler.transform(X_test)"
   ]
  },
  {
   "cell_type": "markdown",
   "id": "e254419c-c285-4d98-9e32-a154d9b0a87d",
   "metadata": {},
   "source": [
    "## Mendefinisikan Model\n"
   ]
  },
  {
   "cell_type": "code",
   "execution_count": 9,
   "id": "b55c9e6d-1da0-4b7e-8d0e-4eef8eeec720",
   "metadata": {},
   "outputs": [],
   "source": [
    "model = keras.Sequential([\n",
    "  layers.Dense(64, activation='relu', input_shape=[X.shape[1]]), # Input layer\n",
    "  layers.Dense(32, activation='relu'), # Hidden layer\n",
    "  layers.Dense(1) # Output layer\n",
    "])"
   ]
  },
  {
   "cell_type": "markdown",
   "id": "513e11d9-c999-4227-86e6-29c8527f23c8",
   "metadata": {},
   "source": [
    "## Mengcompile Model\n"
   ]
  },
  {
   "cell_type": "code",
   "execution_count": 10,
   "id": "6dce82d0-048d-4c7f-96ef-5cb8dbffac31",
   "metadata": {},
   "outputs": [],
   "source": [
    "model.compile(optimizer='adam', loss='mse', metrics=['mae'])"
   ]
  },
  {
   "cell_type": "markdown",
   "id": "26676c7d-ef6a-4d5a-8ece-ae19f64fc379",
   "metadata": {},
   "source": [
    "## Train Model Menggunakan Callback\n"
   ]
  },
  {
   "cell_type": "code",
   "execution_count": 11,
   "id": "09dedb8d-0905-40d5-9e9c-57da5a122d71",
   "metadata": {},
   "outputs": [
    {
     "name": "stdout",
     "output_type": "stream",
     "text": [
      "Epoch 1/50\n",
      "345/345 [==============================] - 3s 5ms/step - loss: 1515.7742 - mae: 30.5968 - val_loss: 103.6310 - val_mae: 7.7367\n",
      "Epoch 2/50\n",
      "345/345 [==============================] - 1s 4ms/step - loss: 77.6617 - mae: 6.7848 - val_loss: 57.7733 - val_mae: 5.9350\n",
      "Epoch 3/50\n",
      "345/345 [==============================] - 1s 4ms/step - loss: 51.3721 - mae: 5.5911 - val_loss: 42.1717 - val_mae: 5.1168\n",
      "Epoch 4/50\n",
      "345/345 [==============================] - 1s 4ms/step - loss: 37.7471 - mae: 4.7979 - val_loss: 30.9152 - val_mae: 4.3645\n",
      "Epoch 5/50\n",
      "345/345 [==============================] - 1s 4ms/step - loss: 27.7792 - mae: 4.1223 - val_loss: 22.3539 - val_mae: 3.7173\n",
      "Epoch 6/50\n",
      "345/345 [==============================] - 1s 4ms/step - loss: 19.7191 - mae: 3.4558 - val_loss: 15.1028 - val_mae: 3.0443\n",
      "Epoch 7/50\n",
      "345/345 [==============================] - 1s 4ms/step - loss: 12.9527 - mae: 2.7915 - val_loss: 9.5067 - val_mae: 2.3960\n",
      "Epoch 8/50\n",
      "345/345 [==============================] - 1s 4ms/step - loss: 8.1620 - mae: 2.2127 - val_loss: 6.2230 - val_mae: 1.9341\n",
      "Epoch 9/50\n",
      "345/345 [==============================] - 1s 4ms/step - loss: 5.4767 - mae: 1.8064 - val_loss: 4.5505 - val_mae: 1.6471\n",
      "Epoch 10/50\n",
      "345/345 [==============================] - 1s 4ms/step - loss: 4.0618 - mae: 1.5531 - val_loss: 3.5591 - val_mae: 1.4520\n",
      "Epoch 11/50\n",
      "345/345 [==============================] - 1s 4ms/step - loss: 3.2836 - mae: 1.3901 - val_loss: 3.1238 - val_mae: 1.3567\n",
      "Epoch 12/50\n",
      "345/345 [==============================] - 1s 4ms/step - loss: 2.8202 - mae: 1.2795 - val_loss: 2.7593 - val_mae: 1.2605\n",
      "Epoch 13/50\n",
      "345/345 [==============================] - 1s 4ms/step - loss: 2.5213 - mae: 1.2009 - val_loss: 2.6548 - val_mae: 1.2294\n",
      "Epoch 14/50\n",
      "345/345 [==============================] - 1s 4ms/step - loss: 2.3967 - mae: 1.1680 - val_loss: 2.3971 - val_mae: 1.1595\n",
      "Epoch 15/50\n",
      "345/345 [==============================] - 1s 4ms/step - loss: 2.2629 - mae: 1.1284 - val_loss: 2.2260 - val_mae: 1.1095\n",
      "Epoch 16/50\n",
      "345/345 [==============================] - 1s 4ms/step - loss: 2.1173 - mae: 1.0830 - val_loss: 2.2510 - val_mae: 1.1220\n",
      "Epoch 17/50\n",
      "345/345 [==============================] - 1s 4ms/step - loss: 2.0697 - mae: 1.0645 - val_loss: 2.0534 - val_mae: 1.0569\n",
      "Epoch 18/50\n",
      "345/345 [==============================] - 1s 4ms/step - loss: 1.9884 - mae: 1.0433 - val_loss: 2.0552 - val_mae: 1.0715\n",
      "Epoch 19/50\n",
      "345/345 [==============================] - 1s 4ms/step - loss: 1.9414 - mae: 1.0239 - val_loss: 1.8721 - val_mae: 0.9933\n",
      "Epoch 20/50\n",
      "345/345 [==============================] - 1s 4ms/step - loss: 1.8649 - mae: 1.0034 - val_loss: 1.9453 - val_mae: 1.0297\n",
      "Epoch 21/50\n",
      "345/345 [==============================] - 1s 4ms/step - loss: 1.8102 - mae: 0.9898 - val_loss: 1.8849 - val_mae: 1.0140\n",
      "Epoch 22/50\n",
      "345/345 [==============================] - 1s 4ms/step - loss: 1.7473 - mae: 0.9659 - val_loss: 1.9448 - val_mae: 1.0398\n",
      "Epoch 23/50\n",
      "345/345 [==============================] - 1s 4ms/step - loss: 1.6835 - mae: 0.9470 - val_loss: 1.7559 - val_mae: 0.9746\n",
      "Epoch 24/50\n",
      "345/345 [==============================] - 1s 4ms/step - loss: 1.6802 - mae: 0.9469 - val_loss: 1.6591 - val_mae: 0.9306\n",
      "Epoch 25/50\n",
      "345/345 [==============================] - 1s 4ms/step - loss: 1.6631 - mae: 0.9389 - val_loss: 1.6967 - val_mae: 0.9499\n",
      "Epoch 26/50\n",
      "345/345 [==============================] - 1s 4ms/step - loss: 1.5972 - mae: 0.9163 - val_loss: 1.6365 - val_mae: 0.9244\n",
      "Epoch 27/50\n",
      "345/345 [==============================] - 1s 4ms/step - loss: 1.5666 - mae: 0.9090 - val_loss: 1.5778 - val_mae: 0.8943\n",
      "Epoch 28/50\n",
      "345/345 [==============================] - 1s 4ms/step - loss: 1.5475 - mae: 0.9000 - val_loss: 1.7074 - val_mae: 0.9554\n",
      "Epoch 29/50\n",
      "345/345 [==============================] - 1s 4ms/step - loss: 1.5597 - mae: 0.9021 - val_loss: 1.6166 - val_mae: 0.9078\n",
      "Epoch 30/50\n",
      "345/345 [==============================] - 1s 4ms/step - loss: 1.5194 - mae: 0.8961 - val_loss: 1.5952 - val_mae: 0.8969\n",
      "Epoch 31/50\n",
      "345/345 [==============================] - 1s 4ms/step - loss: 1.4728 - mae: 0.8740 - val_loss: 1.5118 - val_mae: 0.8750\n",
      "Epoch 32/50\n",
      "345/345 [==============================] - 1s 4ms/step - loss: 1.4349 - mae: 0.8576 - val_loss: 1.5299 - val_mae: 0.8903\n",
      "Epoch 33/50\n",
      "345/345 [==============================] - 1s 4ms/step - loss: 1.4951 - mae: 0.8882 - val_loss: 1.5064 - val_mae: 0.8773\n",
      "Epoch 34/50\n",
      "345/345 [==============================] - 1s 4ms/step - loss: 1.4169 - mae: 0.8467 - val_loss: 1.4573 - val_mae: 0.8583\n",
      "Epoch 35/50\n",
      "345/345 [==============================] - 1s 4ms/step - loss: 1.4065 - mae: 0.8493 - val_loss: 1.5941 - val_mae: 0.8991\n",
      "Epoch 36/50\n",
      "345/345 [==============================] - 1s 4ms/step - loss: 1.4163 - mae: 0.8547 - val_loss: 1.4602 - val_mae: 0.8587\n",
      "Epoch 37/50\n",
      "345/345 [==============================] - 1s 4ms/step - loss: 1.3744 - mae: 0.8419 - val_loss: 1.4407 - val_mae: 0.8456\n",
      "Epoch 38/50\n",
      "345/345 [==============================] - 1s 4ms/step - loss: 1.3099 - mae: 0.8100 - val_loss: 1.5469 - val_mae: 0.9270\n",
      "Epoch 39/50\n",
      "345/345 [==============================] - 1s 4ms/step - loss: 1.3397 - mae: 0.8303 - val_loss: 1.7047 - val_mae: 0.9994\n",
      "Epoch 40/50\n",
      "345/345 [==============================] - 1s 4ms/step - loss: 1.3253 - mae: 0.8220 - val_loss: 1.4192 - val_mae: 0.8392\n",
      "Epoch 41/50\n",
      "345/345 [==============================] - 1s 4ms/step - loss: 1.3100 - mae: 0.8113 - val_loss: 1.4431 - val_mae: 0.8692\n",
      "Epoch 42/50\n",
      "345/345 [==============================] - 1s 4ms/step - loss: 1.2857 - mae: 0.8052 - val_loss: 1.4246 - val_mae: 0.8611\n",
      "Epoch 43/50\n",
      "345/345 [==============================] - 1s 4ms/step - loss: 1.2545 - mae: 0.7935 - val_loss: 1.4112 - val_mae: 0.8716\n",
      "Epoch 44/50\n",
      "345/345 [==============================] - 1s 4ms/step - loss: 1.2417 - mae: 0.7865 - val_loss: 1.2815 - val_mae: 0.7932\n",
      "Epoch 45/50\n",
      "345/345 [==============================] - 1s 4ms/step - loss: 1.2379 - mae: 0.7897 - val_loss: 1.2708 - val_mae: 0.7833\n",
      "Epoch 46/50\n",
      "345/345 [==============================] - 1s 4ms/step - loss: 1.2051 - mae: 0.7700 - val_loss: 1.2879 - val_mae: 0.7894\n",
      "Epoch 47/50\n",
      "345/345 [==============================] - 1s 4ms/step - loss: 1.1910 - mae: 0.7712 - val_loss: 1.2935 - val_mae: 0.8009\n",
      "Epoch 48/50\n",
      "345/345 [==============================] - 1s 4ms/step - loss: 1.1906 - mae: 0.7700 - val_loss: 1.4232 - val_mae: 0.8491\n",
      "Epoch 49/50\n",
      "345/345 [==============================] - 1s 4ms/step - loss: 1.2337 - mae: 0.7881 - val_loss: 1.5729 - val_mae: 0.8615\n",
      "Epoch 50/50\n",
      "345/345 [==============================] - 1s 4ms/step - loss: 1.1825 - mae: 0.7636 - val_loss: 1.2338 - val_mae: 0.7732\n"
     ]
    }
   ],
   "source": [
    "early_stopping = keras.callbacks.EarlyStopping(monitor='val_loss', patience=10)\n",
    "history = model.fit(X_train, y_train, epochs=50, batch_size=32, validation_split=0.2, callbacks=[early_stopping])\n"
   ]
  },
  {
   "cell_type": "markdown",
   "id": "524a6af4-7dbf-47bd-a469-62aa7da7e319",
   "metadata": {},
   "source": [
    "## Mengevaluasi model test set\n"
   ]
  },
  {
   "cell_type": "code",
   "execution_count": 12,
   "id": "08a866e2-c467-47ed-8265-6c6122bb2b93",
   "metadata": {},
   "outputs": [
    {
     "name": "stdout",
     "output_type": "stream",
     "text": [
      "108/108 [==============================] - 0s 3ms/step - loss: 1.2393 - mae: 0.7547\n"
     ]
    }
   ],
   "source": [
    "test_loss, test_mae = model.evaluate(X_test, y_test)"
   ]
  },
  {
   "cell_type": "markdown",
   "id": "fca0244c-2852-4c77-bbd4-52bcc652776a",
   "metadata": {},
   "source": [
    "## Memprediksi target di test set\n"
   ]
  },
  {
   "cell_type": "code",
   "execution_count": 13,
   "id": "2707fbe1-6f37-4b1c-889a-a635b951789c",
   "metadata": {},
   "outputs": [
    {
     "name": "stdout",
     "output_type": "stream",
     "text": [
      "108/108 [==============================] - 0s 3ms/step\n"
     ]
    }
   ],
   "source": [
    "y_pred = model.predict(X_test)"
   ]
  },
  {
   "cell_type": "markdown",
   "id": "3320f552-cd7f-473a-8dd2-b1fab5ae5d71",
   "metadata": {},
   "source": [
    "## Menghitung R2_SCORE \n"
   ]
  },
  {
   "cell_type": "code",
   "execution_count": 14,
   "id": "bb88e9bd-e851-4a4b-a328-8dd9c4ccaff7",
   "metadata": {},
   "outputs": [
    {
     "name": "stdout",
     "output_type": "stream",
     "text": [
      "Test loss: 1.2393\n",
      "Test MAE: 0.7547\n",
      "Test R2 score: 0.9733\n"
     ]
    }
   ],
   "source": [
    "test_r2 = r2_score(y_test, y_pred)\n",
    "\n",
    "print(f\"Test loss: {test_loss:.4f}\")\n",
    "print(f\"Test MAE: {test_mae:.4f}\")\n",
    "print(f\"Test R2 score: {test_r2:.4f}\")"
   ]
  },
  {
   "cell_type": "markdown",
   "id": "cdcc06b3-dc8a-442d-b8d1-7e29681a14d4",
   "metadata": {},
   "source": [
    "## Plot Loss & MAE"
   ]
  },
  {
   "cell_type": "code",
   "execution_count": 15,
   "id": "00a48742-5732-4dae-99f0-2a3d36a12898",
   "metadata": {},
   "outputs": [
    {
     "data": {
      "text/plain": [
       "<matplotlib.legend.Legend at 0x1a71e0b1300>"
      ]
     },
     "execution_count": 15,
     "metadata": {},
     "output_type": "execute_result"
    },
    {
     "data": {
      "image/png": "[encoded data removed]",
      "text/plain": [
       "<Figure size 1200x800 with 1 Axes>"
      ]
     },
     "metadata": {},
     "output_type": "display_data"
    }
   ],
   "source": [
    "import matplotlib.pyplot as plt\n",
    "\n",
    "plt.figure(figsize=(12, 8))\n",
    "plt.subplot(2, 1, 1)\n",
    "plt.plot(history.history['loss'], label='Training loss')\n",
    "plt.plot(history.history['val_loss'], label='Validation loss')\n",
    "plt.xlabel('Epoch')\n",
    "plt.ylabel('Loss')\n",
    "plt.legend()"
   ]
  },
  {
   "cell_type": "code",
   "execution_count": 16,
   "id": "421ef410-d156-4a1e-af7e-c52a3112554a",
   "metadata": {},
   "outputs": [
    {
     "data": {
      "image/png": "[encoded data removed]",
      "text/plain": [
       "<Figure size 640x480 with 1 Axes>"
      ]
     },
     "metadata": {},
     "output_type": "display_data"
    }
   ],
   "source": [
    "plt.subplot(2, 1, 2)\n",
    "plt.plot(history.history['mae'], label='Training MAE')\n",
    "plt.plot(history.history['val_mae'], label='Validation MAE')\n",
    "plt.xlabel('Epoch')\n",
    "plt.ylabel('MAE')\n",
    "plt.legend()\n",
    "plt.show()"
   ]
  }
 ],
 "metadata": {
  "kernelspec": {
   "display_name": "Python 3 (ipykernel)",
   "language": "python",
   "name": "python3"
  },
  "language_info": {
   "codemirror_mode": {
    "name": "ipython",
    "version": 3
   },
   "file_extension": ".py",
   "mimetype": "text/x-python",
   "name": "python",
   "nbconvert_exporter": "python",
   "pygments_lexer": "ipython3",
   "version": "3.10.7"
  }
 },
 "nbformat": 4,
 "nbformat_minor": 5
}
